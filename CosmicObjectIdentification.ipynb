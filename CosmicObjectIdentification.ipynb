{
  "nbformat": 4,
  "nbformat_minor": 0,
  "metadata": {
    "colab": {
      "provenance": [],
      "gpuType": "T4",
      "include_colab_link": true
    },
    "kernelspec": {
      "name": "python3",
      "display_name": "Python 3"
    },
    "language_info": {
      "name": "python"
    },
    "accelerator": "GPU"
  },
  "cells": [
    {
      "cell_type": "markdown",
      "metadata": {
        "id": "view-in-github",
        "colab_type": "text"
      },
      "source": [
        "<a href=\"https://colab.research.google.com/github/HelenSaraAlex/Cosmic_Image_classifier-using-CNN/blob/main/CosmicObjectIdentification.ipynb\" target=\"_parent\"><img src=\"https://colab.research.google.com/assets/colab-badge.svg\" alt=\"Open In Colab\"/></a>"
      ]
    },
    {
      "cell_type": "code",
      "execution_count": null,
      "metadata": {
        "id": "ptlyHfkqGMYB"
      },
      "outputs": [],
      "source": [
        "import os\n",
        "import numpy as np\n",
        "import tensorflow as tf\n",
        "import matplotlib.pyplot as plt\n",
        "import warnings\n",
        "from tensorflow import keras\n",
        "from tensorflow.keras.preprocessing import image_dataset_from_directory\n",
        "from tensorflow.keras import layers\n",
        "from tensorflow.keras.applications import VGG16"
      ]
    },
    {
      "cell_type": "code",
      "source": [],
      "metadata": {
        "id": "h4nUQ5HvGbqJ"
      },
      "execution_count": null,
      "outputs": []
    },
    {
      "cell_type": "code",
      "source": [
        "plt.rc('figure', autolayout = True)\n",
        "plt.rc('axes', labelweight = 'bold', titleweight = 'bold', titlesize = 18, titlepad = 10, labelsize = 'large')\n",
        "plt.rc('image', cmap = 'magma')\n",
        "warnings.filterwarnings(\"ignore\")"
      ],
      "metadata": {
        "id": "kr01c6aCGNyi"
      },
      "execution_count": null,
      "outputs": []
    },
    {
      "cell_type": "code",
      "source": [
        "def seed_set(seed = 31415):\n",
        "    np.random.seed(seed)\n",
        "    tf.random.set_seed(seed)\n",
        "    os.environ['PYTHONHASHSEED'] = str(seed)\n",
        "    os.environ['TF_DETERMINISTIC-OPS'] = '1'\n",
        "seed_set(31415)"
      ],
      "metadata": {
        "id": "5V3EkSKJGbXT"
      },
      "execution_count": null,
      "outputs": []
    },
    {
      "cell_type": "code",
      "source": [
        "from google.colab import drive\n",
        "\n",
        "# Mount Google Drive\n",
        "drive.mount('/content/drive')\n"
      ],
      "metadata": {
        "colab": {
          "base_uri": "https://localhost:8080/"
        },
        "id": "nC5OppyKK1zx",
        "outputId": "686ed0e8-262a-497d-86f4-47000a01509e"
      },
      "execution_count": null,
      "outputs": [
        {
          "output_type": "stream",
          "name": "stdout",
          "text": [
            "Drive already mounted at /content/drive; to attempt to forcibly remount, call drive.mount(\"/content/drive\", force_remount=True).\n"
          ]
        }
      ]
    },
    {
      "cell_type": "code",
      "source": [
        "train_dir = '/content/drive/MyDrive/Identify_planet/train'\n",
        "valid_dir = '/content/drive/MyDrive/Identify_planet/valid'\n",
        "\n",
        "print(\"Training directory:\",train_dir)\n",
        "print(\"Validation directory:\",valid_dir)\n",
        "\n",
        "ds_train_ = image_dataset_from_directory(\n",
        "    train_dir,\n",
        "    labels = 'inferred',\n",
        "    label_mode = 'categorical',\n",
        "    image_size = [128, 128],\n",
        "    interpolation = 'nearest',\n",
        "    batch_size = 64,\n",
        "    shuffle = True,\n",
        ")\n",
        "\n",
        "ds_valid_ = image_dataset_from_directory(\n",
        "    train_dir,\n",
        "    labels = 'inferred',\n",
        "    label_mode = 'categorical',\n",
        "    image_size = [128, 128],\n",
        "    interpolation = 'nearest',\n",
        "    batch_size = 64,\n",
        "    shuffle = False,\n",
        ")\n"
      ],
      "metadata": {
        "colab": {
          "base_uri": "https://localhost:8080/"
        },
        "id": "_9RnvzdzGiij",
        "outputId": "e659c162-191b-4a21-9481-4838084f2fa1"
      },
      "execution_count": null,
      "outputs": [
        {
          "output_type": "stream",
          "name": "stdout",
          "text": [
            "Training directory: /content/drive/MyDrive/Identify_planet/train\n",
            "Validation directory: /content/drive/MyDrive/Identify_planet/valid\n",
            "Found 368 files belonging to 8 classes.\n",
            "Found 368 files belonging to 8 classes.\n"
          ]
        }
      ]
    },
    {
      "cell_type": "code",
      "source": [
        "def convert_to_float(image, label):\n",
        "    image = tf.image.convert_image_dtype(image, dtype = tf.float32)\n",
        "    return image, label\n",
        "\n",
        "AUTOTUNE = tf.data.experimental.AUTOTUNE\n",
        "ds_train = (\n",
        "    ds_train_\n",
        "    .map(convert_to_float)\n",
        "    .cache()\n",
        "    .prefetch(buffer_size = AUTOTUNE)\n",
        ")\n",
        "ds_valid = (\n",
        "    ds_valid_\n",
        "    .map(convert_to_float)\n",
        "    .cache()\n",
        "    .prefetch(buffer_size = AUTOTUNE)\n",
        ")"
      ],
      "metadata": {
        "id": "BdBEIySQLW_m"
      },
      "execution_count": null,
      "outputs": []
    },
    {
      "cell_type": "code",
      "source": [
        "pretrained_base = VGG16(weights = 'imagenet',include_top = False, input_shape = (128,128,3))\n",
        "\n",
        "pretrained_base.trainable = False"
      ],
      "metadata": {
        "id": "8RSRpLunLYc9"
      },
      "execution_count": null,
      "outputs": []
    },
    {
      "cell_type": "code",
      "source": [
        "model = keras.Sequential([\n",
        "    pretrained_base,\n",
        "    layers.Flatten(),\n",
        "    layers.Dense(256, activation = 'relu'),\n",
        "    layers.Dropout(0.5),\n",
        "    layers.Dense(8, activation = 'softmax')\n",
        "])\n",
        "model.compile(\n",
        "    optimizer = 'adam',\n",
        "    loss = 'categorical_crossentropy',\n",
        "    metrics = ['accuracy']\n",
        ")\n",
        "\n",
        "\n",
        "history = model.fit(\n",
        "    ds_train,validation_data = ds_valid,\n",
        "    epochs = 70,\n",
        "    verbose = 1\n",
        ")"
      ],
      "metadata": {
        "colab": {
          "base_uri": "https://localhost:8080/"
        },
        "id": "hu7t1XNKLcWI",
        "outputId": "369ccadf-fd48-4140-b56f-ddd9cfcfe280"
      },
      "execution_count": null,
      "outputs": [
        {
          "output_type": "stream",
          "name": "stdout",
          "text": [
            "Epoch 1/70\n",
            "6/6 [==============================] - 2s 220ms/step - loss: 1.7944 - accuracy: 0.4484 - val_loss: 0.3734 - val_accuracy: 0.8913\n",
            "Epoch 2/70\n",
            "6/6 [==============================] - 1s 197ms/step - loss: 0.4296 - accuracy: 0.8288 - val_loss: 0.1182 - val_accuracy: 1.0000\n",
            "Epoch 3/70\n",
            "6/6 [==============================] - 1s 157ms/step - loss: 0.1968 - accuracy: 0.9212 - val_loss: 0.0658 - val_accuracy: 1.0000\n",
            "Epoch 4/70\n",
            "6/6 [==============================] - 1s 156ms/step - loss: 0.1405 - accuracy: 0.9484 - val_loss: 0.0308 - val_accuracy: 1.0000\n",
            "Epoch 5/70\n",
            "6/6 [==============================] - 1s 158ms/step - loss: 0.0739 - accuracy: 0.9864 - val_loss: 0.0207 - val_accuracy: 1.0000\n",
            "Epoch 6/70\n",
            "6/6 [==============================] - 1s 155ms/step - loss: 0.0461 - accuracy: 0.9946 - val_loss: 0.0158 - val_accuracy: 1.0000\n",
            "Epoch 7/70\n",
            "6/6 [==============================] - 1s 156ms/step - loss: 0.0339 - accuracy: 0.9973 - val_loss: 0.0101 - val_accuracy: 1.0000\n",
            "Epoch 8/70\n",
            "6/6 [==============================] - 1s 199ms/step - loss: 0.0258 - accuracy: 1.0000 - val_loss: 0.0083 - val_accuracy: 1.0000\n",
            "Epoch 9/70\n",
            "6/6 [==============================] - 1s 208ms/step - loss: 0.0260 - accuracy: 1.0000 - val_loss: 0.0049 - val_accuracy: 1.0000\n",
            "Epoch 10/70\n",
            "6/6 [==============================] - 1s 207ms/step - loss: 0.0168 - accuracy: 1.0000 - val_loss: 0.0035 - val_accuracy: 1.0000\n",
            "Epoch 11/70\n",
            "6/6 [==============================] - 1s 204ms/step - loss: 0.0132 - accuracy: 1.0000 - val_loss: 0.0030 - val_accuracy: 1.0000\n",
            "Epoch 12/70\n",
            "6/6 [==============================] - 1s 167ms/step - loss: 0.0137 - accuracy: 1.0000 - val_loss: 0.0032 - val_accuracy: 1.0000\n",
            "Epoch 13/70\n",
            "6/6 [==============================] - 1s 164ms/step - loss: 0.0125 - accuracy: 1.0000 - val_loss: 0.0023 - val_accuracy: 1.0000\n",
            "Epoch 14/70\n",
            "6/6 [==============================] - 1s 173ms/step - loss: 0.0107 - accuracy: 1.0000 - val_loss: 0.0022 - val_accuracy: 1.0000\n",
            "Epoch 15/70\n",
            "6/6 [==============================] - 1s 177ms/step - loss: 0.0082 - accuracy: 1.0000 - val_loss: 0.0018 - val_accuracy: 1.0000\n",
            "Epoch 16/70\n",
            "6/6 [==============================] - 1s 181ms/step - loss: 0.0073 - accuracy: 1.0000 - val_loss: 0.0017 - val_accuracy: 1.0000\n",
            "Epoch 17/70\n",
            "6/6 [==============================] - 1s 164ms/step - loss: 0.0094 - accuracy: 0.9973 - val_loss: 0.0014 - val_accuracy: 1.0000\n",
            "Epoch 18/70\n",
            "6/6 [==============================] - 1s 171ms/step - loss: 0.0090 - accuracy: 0.9973 - val_loss: 0.0014 - val_accuracy: 1.0000\n",
            "Epoch 19/70\n",
            "6/6 [==============================] - 1s 171ms/step - loss: 0.0074 - accuracy: 1.0000 - val_loss: 0.0013 - val_accuracy: 1.0000\n",
            "Epoch 20/70\n",
            "6/6 [==============================] - 1s 158ms/step - loss: 0.0100 - accuracy: 0.9973 - val_loss: 0.0012 - val_accuracy: 1.0000\n",
            "Epoch 21/70\n",
            "6/6 [==============================] - 1s 158ms/step - loss: 0.0064 - accuracy: 1.0000 - val_loss: 0.0014 - val_accuracy: 1.0000\n",
            "Epoch 22/70\n",
            "6/6 [==============================] - 1s 159ms/step - loss: 0.0056 - accuracy: 1.0000 - val_loss: 0.0011 - val_accuracy: 1.0000\n",
            "Epoch 23/70\n",
            "6/6 [==============================] - 1s 160ms/step - loss: 0.0063 - accuracy: 1.0000 - val_loss: 9.4054e-04 - val_accuracy: 1.0000\n",
            "Epoch 24/70\n",
            "6/6 [==============================] - 1s 160ms/step - loss: 0.0047 - accuracy: 1.0000 - val_loss: 7.4871e-04 - val_accuracy: 1.0000\n",
            "Epoch 25/70\n",
            "6/6 [==============================] - 1s 160ms/step - loss: 0.0063 - accuracy: 1.0000 - val_loss: 7.5358e-04 - val_accuracy: 1.0000\n",
            "Epoch 26/70\n",
            "6/6 [==============================] - 1s 162ms/step - loss: 0.0062 - accuracy: 1.0000 - val_loss: 7.7484e-04 - val_accuracy: 1.0000\n",
            "Epoch 27/70\n",
            "6/6 [==============================] - 1s 160ms/step - loss: 0.0048 - accuracy: 1.0000 - val_loss: 6.2293e-04 - val_accuracy: 1.0000\n",
            "Epoch 28/70\n",
            "6/6 [==============================] - 1s 201ms/step - loss: 0.0033 - accuracy: 1.0000 - val_loss: 5.4755e-04 - val_accuracy: 1.0000\n",
            "Epoch 29/70\n",
            "6/6 [==============================] - 1s 165ms/step - loss: 0.0043 - accuracy: 1.0000 - val_loss: 4.9824e-04 - val_accuracy: 1.0000\n",
            "Epoch 30/70\n",
            "6/6 [==============================] - 1s 164ms/step - loss: 0.0041 - accuracy: 1.0000 - val_loss: 4.6959e-04 - val_accuracy: 1.0000\n",
            "Epoch 31/70\n",
            "6/6 [==============================] - 1s 163ms/step - loss: 0.0034 - accuracy: 1.0000 - val_loss: 4.7575e-04 - val_accuracy: 1.0000\n",
            "Epoch 32/70\n",
            "6/6 [==============================] - 1s 164ms/step - loss: 0.0047 - accuracy: 1.0000 - val_loss: 4.2640e-04 - val_accuracy: 1.0000\n",
            "Epoch 33/70\n",
            "6/6 [==============================] - 1s 161ms/step - loss: 0.0026 - accuracy: 1.0000 - val_loss: 4.0063e-04 - val_accuracy: 1.0000\n",
            "Epoch 34/70\n",
            "6/6 [==============================] - 1s 162ms/step - loss: 0.0050 - accuracy: 1.0000 - val_loss: 3.9120e-04 - val_accuracy: 1.0000\n",
            "Epoch 35/70\n",
            "6/6 [==============================] - 1s 162ms/step - loss: 0.0028 - accuracy: 1.0000 - val_loss: 4.5652e-04 - val_accuracy: 1.0000\n",
            "Epoch 36/70\n",
            "6/6 [==============================] - 1s 162ms/step - loss: 0.0033 - accuracy: 1.0000 - val_loss: 3.9858e-04 - val_accuracy: 1.0000\n",
            "Epoch 37/70\n",
            "6/6 [==============================] - 1s 161ms/step - loss: 0.0043 - accuracy: 1.0000 - val_loss: 3.4487e-04 - val_accuracy: 1.0000\n",
            "Epoch 38/70\n",
            "6/6 [==============================] - 1s 164ms/step - loss: 0.0018 - accuracy: 1.0000 - val_loss: 3.1193e-04 - val_accuracy: 1.0000\n",
            "Epoch 39/70\n",
            "6/6 [==============================] - 1s 161ms/step - loss: 0.0027 - accuracy: 1.0000 - val_loss: 2.8514e-04 - val_accuracy: 1.0000\n",
            "Epoch 40/70\n",
            "6/6 [==============================] - 1s 162ms/step - loss: 0.0031 - accuracy: 1.0000 - val_loss: 2.7382e-04 - val_accuracy: 1.0000\n",
            "Epoch 41/70\n",
            "6/6 [==============================] - 1s 164ms/step - loss: 0.0019 - accuracy: 1.0000 - val_loss: 2.6933e-04 - val_accuracy: 1.0000\n",
            "Epoch 42/70\n",
            "6/6 [==============================] - 1s 205ms/step - loss: 0.0023 - accuracy: 1.0000 - val_loss: 2.4573e-04 - val_accuracy: 1.0000\n",
            "Epoch 43/70\n",
            "6/6 [==============================] - 1s 204ms/step - loss: 0.0017 - accuracy: 1.0000 - val_loss: 2.3035e-04 - val_accuracy: 1.0000\n",
            "Epoch 44/70\n",
            "6/6 [==============================] - 1s 164ms/step - loss: 0.0025 - accuracy: 1.0000 - val_loss: 2.2068e-04 - val_accuracy: 1.0000\n",
            "Epoch 45/70\n",
            "6/6 [==============================] - 1s 164ms/step - loss: 0.0022 - accuracy: 1.0000 - val_loss: 2.2176e-04 - val_accuracy: 1.0000\n",
            "Epoch 46/70\n",
            "6/6 [==============================] - 1s 164ms/step - loss: 0.0025 - accuracy: 1.0000 - val_loss: 2.0658e-04 - val_accuracy: 1.0000\n",
            "Epoch 47/70\n",
            "6/6 [==============================] - 1s 165ms/step - loss: 0.0032 - accuracy: 1.0000 - val_loss: 2.4416e-04 - val_accuracy: 1.0000\n",
            "Epoch 48/70\n",
            "6/6 [==============================] - 1s 166ms/step - loss: 0.0023 - accuracy: 1.0000 - val_loss: 2.6821e-04 - val_accuracy: 1.0000\n",
            "Epoch 49/70\n",
            "6/6 [==============================] - 1s 164ms/step - loss: 0.0030 - accuracy: 1.0000 - val_loss: 2.3806e-04 - val_accuracy: 1.0000\n",
            "Epoch 50/70\n",
            "6/6 [==============================] - 1s 165ms/step - loss: 0.0028 - accuracy: 1.0000 - val_loss: 2.1326e-04 - val_accuracy: 1.0000\n",
            "Epoch 51/70\n",
            "6/6 [==============================] - 1s 165ms/step - loss: 0.0025 - accuracy: 1.0000 - val_loss: 1.9831e-04 - val_accuracy: 1.0000\n",
            "Epoch 52/70\n",
            "6/6 [==============================] - 1s 164ms/step - loss: 0.0027 - accuracy: 1.0000 - val_loss: 1.7649e-04 - val_accuracy: 1.0000\n",
            "Epoch 53/70\n",
            "6/6 [==============================] - 1s 202ms/step - loss: 0.0035 - accuracy: 1.0000 - val_loss: 1.6287e-04 - val_accuracy: 1.0000\n",
            "Epoch 54/70\n",
            "6/6 [==============================] - 1s 202ms/step - loss: 0.0014 - accuracy: 1.0000 - val_loss: 1.8718e-04 - val_accuracy: 1.0000\n",
            "Epoch 55/70\n",
            "6/6 [==============================] - 1s 167ms/step - loss: 0.0024 - accuracy: 1.0000 - val_loss: 2.0348e-04 - val_accuracy: 1.0000\n",
            "Epoch 56/70\n",
            "6/6 [==============================] - 1s 166ms/step - loss: 0.0017 - accuracy: 1.0000 - val_loss: 1.9840e-04 - val_accuracy: 1.0000\n",
            "Epoch 57/70\n",
            "6/6 [==============================] - 1s 163ms/step - loss: 0.0017 - accuracy: 1.0000 - val_loss: 1.4908e-04 - val_accuracy: 1.0000\n",
            "Epoch 58/70\n",
            "6/6 [==============================] - 1s 166ms/step - loss: 0.0025 - accuracy: 1.0000 - val_loss: 1.2440e-04 - val_accuracy: 1.0000\n",
            "Epoch 59/70\n",
            "6/6 [==============================] - 1s 166ms/step - loss: 0.0016 - accuracy: 1.0000 - val_loss: 1.1207e-04 - val_accuracy: 1.0000\n",
            "Epoch 60/70\n",
            "6/6 [==============================] - 1s 202ms/step - loss: 0.0012 - accuracy: 1.0000 - val_loss: 1.0590e-04 - val_accuracy: 1.0000\n",
            "Epoch 61/70\n",
            "6/6 [==============================] - 1s 167ms/step - loss: 0.0025 - accuracy: 1.0000 - val_loss: 1.1583e-04 - val_accuracy: 1.0000\n",
            "Epoch 62/70\n",
            "6/6 [==============================] - 1s 166ms/step - loss: 0.0012 - accuracy: 1.0000 - val_loss: 1.1894e-04 - val_accuracy: 1.0000\n",
            "Epoch 63/70\n",
            "6/6 [==============================] - 1s 168ms/step - loss: 0.0019 - accuracy: 1.0000 - val_loss: 1.0561e-04 - val_accuracy: 1.0000\n",
            "Epoch 64/70\n",
            "6/6 [==============================] - 1s 168ms/step - loss: 0.0025 - accuracy: 1.0000 - val_loss: 9.2815e-05 - val_accuracy: 1.0000\n",
            "Epoch 65/70\n",
            "6/6 [==============================] - 1s 170ms/step - loss: 0.0014 - accuracy: 1.0000 - val_loss: 8.9826e-05 - val_accuracy: 1.0000\n",
            "Epoch 66/70\n",
            "6/6 [==============================] - 1s 206ms/step - loss: 9.9155e-04 - accuracy: 1.0000 - val_loss: 8.5384e-05 - val_accuracy: 1.0000\n",
            "Epoch 67/70\n",
            "6/6 [==============================] - 1s 171ms/step - loss: 0.0015 - accuracy: 1.0000 - val_loss: 7.7236e-05 - val_accuracy: 1.0000\n",
            "Epoch 68/70\n",
            "6/6 [==============================] - 1s 167ms/step - loss: 9.1096e-04 - accuracy: 1.0000 - val_loss: 7.1938e-05 - val_accuracy: 1.0000\n",
            "Epoch 69/70\n",
            "6/6 [==============================] - 1s 167ms/step - loss: 0.0019 - accuracy: 1.0000 - val_loss: 6.7153e-05 - val_accuracy: 1.0000\n",
            "Epoch 70/70\n",
            "6/6 [==============================] - 1s 168ms/step - loss: 0.0015 - accuracy: 1.0000 - val_loss: 6.7061e-05 - val_accuracy: 1.0000\n"
          ]
        }
      ]
    },
    {
      "cell_type": "code",
      "source": [
        "labels = ['Mercury', 'Venus', 'Earth', 'Mars', 'Jupiter', 'Saturn', 'Uranus', 'Neptune']"
      ],
      "metadata": {
        "id": "3fCz3x6ELkaQ"
      },
      "execution_count": null,
      "outputs": []
    },
    {
      "cell_type": "code",
      "source": [
        "def preprocess_img(image_path):\n",
        "    image = tf.io.read_file(image_path)\n",
        "    image = tf.image.decode_jpeg(image, channels = 3)\n",
        "    image = tf.image.resize(image, [128,128])\n",
        "    image = tf.cast(image, tf.float32) / 255.0\n",
        "    return image"
      ],
      "metadata": {
        "id": "fEN9eekeLmA8"
      },
      "execution_count": null,
      "outputs": []
    },
    {
      "cell_type": "code",
      "source": [
        "def predict_class(image_path):\n",
        "    image = preprocess_img(image_path)\n",
        "    image = tf.expand_dims(image, axis = 0)\n",
        "    predictions = model.predict(image)\n",
        "\n",
        "    predicted_index = tf.argmax(predictions[0]).numpy()\n",
        "    predicted_class = labels[predicted_index]\n",
        "    return predicted_class"
      ],
      "metadata": {
        "id": "On8fxNuXLsGJ"
      },
      "execution_count": null,
      "outputs": []
    },
    {
      "cell_type": "code",
      "source": [
        "#test\n",
        "image_path='/content/drive/MyDrive/Identify_planet/test/Saturn/Saturn1755_jpg.rf.d67c8089c411267c2db60ddb307b2869.jpg'\n",
        "planet=predict_class(image_path)\n",
        "print(\"predicted planet:\",planet)"
      ],
      "metadata": {
        "colab": {
          "base_uri": "https://localhost:8080/"
        },
        "id": "fAFqHIpUZ25Y",
        "outputId": "3a630a70-a3b7-43b8-bb58-3b94ec84ea99"
      },
      "execution_count": null,
      "outputs": [
        {
          "output_type": "stream",
          "name": "stdout",
          "text": [
            "1/1 [==============================] - 0s 18ms/step\n",
            "predicted planet: Saturn\n"
          ]
        }
      ]
    }
  ]
}