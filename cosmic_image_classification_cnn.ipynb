{
 "cells": [
  {
   "cell_type": "code",
   "execution_count": 1,
   "id": "fc69e271",
   "metadata": {},
   "outputs": [],
   "source": [
    "import os\n",
    "import numpy as np\n",
    "import tensorflow as tf\n",
    "import matplotlib.pyplot as plt\n",
    "import warnings\n",
    "from tensorflow import keras\n",
    "from tensorflow.keras.preprocessing import image_dataset_from_directory\n",
    "from tensorflow.keras import layers\n",
    "from tensorflow.keras.applications import VGG16"
   ]
  },
  {
   "cell_type": "code",
   "execution_count": 2,
   "id": "fc83eabe",
   "metadata": {},
   "outputs": [],
   "source": [
    "plt.rc('figure', autolayout=True)\n",
    "plt.rc('axes', labelweight='bold', titleweight='bold', titlesize=18, titlepad=10, labelsize='large')\n",
    "plt.rc('image', cmap='magma')\n",
    "warnings.filterwarnings(\"ignore\")"
   ]
  },
  {
   "cell_type": "code",
   "execution_count": 3,
   "id": "6d9e1e5d",
   "metadata": {},
   "outputs": [],
   "source": [
    "def seed_set(seed=31415):\n",
    "    np.random.seed(seed)\n",
    "    tf.random.set_seed(seed)\n",
    "    os.environ['PYTHONHASHSEED'] = str(seed)\n",
    "    os.environ['TF_DETERMINISTIC-OPS'] = '1'\n",
    "seed_set(31415)"
   ]
  },
  {
   "cell_type": "code",
   "execution_count": 4,
   "id": "7b0bb829",
   "metadata": {},
   "outputs": [],
   "source": [
    "train_dir = r'C:\\Users\\Helen\\Nexforce_projects\\planets\\train'\n",
    "valid_dir = r'C:\\Users\\Helen\\Nexforce_projects\\planets\\valid'  "
   ]
  },
  {
   "cell_type": "code",
   "execution_count": 5,
   "id": "0335af62",
   "metadata": {},
   "outputs": [
    {
     "name": "stdout",
     "output_type": "stream",
     "text": [
      "Training directory: C:\\Users\\Helen\\Nexforce_projects\\planets\\train\n",
      "Validation directory: C:\\Users\\Helen\\Nexforce_projects\\planets\\valid\n"
     ]
    }
   ],
   "source": [
    "print(\"Training directory:\", train_dir)\n",
    "print(\"Validation directory:\", valid_dir)"
   ]
  },
  {
   "cell_type": "code",
   "execution_count": 6,
   "id": "54379ff0",
   "metadata": {},
   "outputs": [
    {
     "name": "stdout",
     "output_type": "stream",
     "text": [
      "Found 368 files belonging to 8 classes.\n"
     ]
    }
   ],
   "source": [
    "ds_train_ = image_dataset_from_directory(\n",
    "    train_dir,\n",
    "    labels='inferred',\n",
    "    label_mode='categorical',\n",
    "    image_size=[128, 128],\n",
    "    interpolation='nearest',\n",
    "    batch_size=64,\n",
    "    shuffle=True,\n",
    ")"
   ]
  },
  {
   "cell_type": "code",
   "execution_count": 7,
   "id": "23de95a6",
   "metadata": {},
   "outputs": [
    {
     "name": "stdout",
     "output_type": "stream",
     "text": [
      "Found 105 files belonging to 8 classes.\n"
     ]
    }
   ],
   "source": [
    "ds_valid_ = image_dataset_from_directory(\n",
    "    valid_dir,\n",
    "    labels='inferred',\n",
    "    label_mode='categorical',\n",
    "    image_size=[128, 128],\n",
    "    interpolation='nearest',\n",
    "    batch_size=64,\n",
    "    shuffle=False,\n",
    ")\n"
   ]
  },
  {
   "cell_type": "code",
   "execution_count": 8,
   "id": "1fe8ff2b",
   "metadata": {},
   "outputs": [],
   "source": [
    "def convert_to_float(image, label):\n",
    "    image = tf.image.convert_image_dtype(image, dtype=tf.float32)\n",
    "    return image, label\n",
    "\n",
    "AUTOTUNE = tf.data.experimental.AUTOTUNE\n",
    "ds_train = (\n",
    "    ds_train_\n",
    "    .map(convert_to_float)\n",
    "    .cache()\n",
    "    .prefetch(buffer_size=AUTOTUNE)\n",
    ")\n",
    "ds_valid = (\n",
    "    ds_valid_\n",
    "    .map(convert_to_float)\n",
    "    .cache()\n",
    "    .prefetch(buffer_size=AUTOTUNE)\n",
    ")\n"
   ]
  },
  {
   "cell_type": "code",
   "execution_count": 9,
   "id": "9036638d",
   "metadata": {},
   "outputs": [],
   "source": [
    "pretrained_base = VGG16(weights='imagenet', include_top=False, input_shape=(128, 128, 3))\n",
    "\n",
    "pretrained_base.trainable = False"
   ]
  },
  {
   "cell_type": "code",
   "execution_count": 10,
   "id": "41ca04d7",
   "metadata": {},
   "outputs": [],
   "source": [
    "# Build model\n",
    "model = keras.Sequential([\n",
    "    pretrained_base,\n",
    "    layers.Flatten(),\n",
    "    layers.Dense(256, activation='relu'),\n",
    "    layers.Dropout(0.5),\n",
    "    layers.Dense(8, activation='softmax')\n",
    "])"
   ]
  },
  {
   "cell_type": "code",
   "execution_count": 11,
   "id": "270cbb0f",
   "metadata": {},
   "outputs": [],
   "source": [
    "# Compile model\n",
    "model.compile(\n",
    "    optimizer='adam',\n",
    "    loss='categorical_crossentropy',\n",
    "    metrics=['accuracy']\n",
    ")"
   ]
  },
  {
   "cell_type": "code",
   "execution_count": 12,
   "id": "79218baa",
   "metadata": {},
   "outputs": [
    {
     "name": "stdout",
     "output_type": "stream",
     "text": [
      "Epoch 1/30\n",
      "6/6 [==============================] - 30s 5s/step - loss: 1.7869 - accuracy: 0.4592 - val_loss: 0.3443 - val_accuracy: 0.9143\n",
      "Epoch 2/30\n",
      "6/6 [==============================] - 27s 5s/step - loss: 0.3531 - accuracy: 0.8886 - val_loss: 0.1169 - val_accuracy: 1.0000\n",
      "Epoch 3/30\n",
      "6/6 [==============================] - 25s 4s/step - loss: 0.1903 - accuracy: 0.9429 - val_loss: 0.0514 - val_accuracy: 1.0000\n",
      "Epoch 4/30\n",
      "6/6 [==============================] - 28s 5s/step - loss: 0.1224 - accuracy: 0.9565 - val_loss: 0.0277 - val_accuracy: 1.0000\n",
      "Epoch 5/30\n",
      "6/6 [==============================] - 26s 5s/step - loss: 0.0700 - accuracy: 0.9810 - val_loss: 0.0155 - val_accuracy: 1.0000\n",
      "Epoch 6/30\n",
      "6/6 [==============================] - 27s 5s/step - loss: 0.0420 - accuracy: 0.9946 - val_loss: 0.0080 - val_accuracy: 1.0000\n",
      "Epoch 7/30\n",
      "6/6 [==============================] - 27s 5s/step - loss: 0.0212 - accuracy: 1.0000 - val_loss: 0.0052 - val_accuracy: 1.0000\n",
      "Epoch 8/30\n",
      "6/6 [==============================] - 28s 5s/step - loss: 0.0146 - accuracy: 1.0000 - val_loss: 0.0040 - val_accuracy: 1.0000\n",
      "Epoch 9/30\n",
      "6/6 [==============================] - 29s 5s/step - loss: 0.0148 - accuracy: 1.0000 - val_loss: 0.0025 - val_accuracy: 1.0000\n",
      "Epoch 10/30\n",
      "6/6 [==============================] - 28s 5s/step - loss: 0.0106 - accuracy: 1.0000 - val_loss: 0.0021 - val_accuracy: 1.0000\n",
      "Epoch 11/30\n",
      "6/6 [==============================] - 27s 5s/step - loss: 0.0093 - accuracy: 1.0000 - val_loss: 0.0016 - val_accuracy: 1.0000\n",
      "Epoch 12/30\n",
      "6/6 [==============================] - 27s 5s/step - loss: 0.0069 - accuracy: 1.0000 - val_loss: 0.0014 - val_accuracy: 1.0000\n",
      "Epoch 13/30\n",
      "6/6 [==============================] - 28s 5s/step - loss: 0.0069 - accuracy: 1.0000 - val_loss: 0.0011 - val_accuracy: 1.0000\n",
      "Epoch 14/30\n",
      "6/6 [==============================] - 28s 5s/step - loss: 0.0052 - accuracy: 1.0000 - val_loss: 0.0011 - val_accuracy: 1.0000\n",
      "Epoch 15/30\n",
      "6/6 [==============================] - 25s 4s/step - loss: 0.0036 - accuracy: 1.0000 - val_loss: 9.6199e-04 - val_accuracy: 1.0000\n",
      "Epoch 16/30\n",
      "6/6 [==============================] - 25s 4s/step - loss: 0.0046 - accuracy: 1.0000 - val_loss: 8.5835e-04 - val_accuracy: 1.0000\n",
      "Epoch 17/30\n",
      "6/6 [==============================] - 26s 5s/step - loss: 0.0040 - accuracy: 1.0000 - val_loss: 8.0909e-04 - val_accuracy: 1.0000\n",
      "Epoch 18/30\n",
      "6/6 [==============================] - 28s 5s/step - loss: 0.0048 - accuracy: 1.0000 - val_loss: 7.4367e-04 - val_accuracy: 1.0000\n",
      "Epoch 19/30\n",
      "6/6 [==============================] - 26s 4s/step - loss: 0.0035 - accuracy: 1.0000 - val_loss: 7.1682e-04 - val_accuracy: 1.0000\n",
      "Epoch 20/30\n",
      "6/6 [==============================] - 77s 15s/step - loss: 0.0054 - accuracy: 1.0000 - val_loss: 6.5817e-04 - val_accuracy: 1.0000\n",
      "Epoch 21/30\n",
      "6/6 [==============================] - 30s 5s/step - loss: 0.0029 - accuracy: 1.0000 - val_loss: 6.1490e-04 - val_accuracy: 1.0000\n",
      "Epoch 22/30\n",
      "6/6 [==============================] - 28s 5s/step - loss: 0.0039 - accuracy: 1.0000 - val_loss: 5.6084e-04 - val_accuracy: 1.0000\n",
      "Epoch 23/30\n",
      "6/6 [==============================] - 26s 5s/step - loss: 0.0041 - accuracy: 1.0000 - val_loss: 5.5792e-04 - val_accuracy: 1.0000\n",
      "Epoch 24/30\n",
      "6/6 [==============================] - 27s 5s/step - loss: 0.0039 - accuracy: 1.0000 - val_loss: 5.4713e-04 - val_accuracy: 1.0000\n",
      "Epoch 25/30\n",
      "6/6 [==============================] - 26s 4s/step - loss: 0.0034 - accuracy: 1.0000 - val_loss: 5.1195e-04 - val_accuracy: 1.0000\n",
      "Epoch 26/30\n",
      "6/6 [==============================] - 25s 4s/step - loss: 0.0044 - accuracy: 1.0000 - val_loss: 4.4548e-04 - val_accuracy: 1.0000\n",
      "Epoch 27/30\n",
      "6/6 [==============================] - 28s 5s/step - loss: 0.0042 - accuracy: 1.0000 - val_loss: 4.4347e-04 - val_accuracy: 1.0000\n",
      "Epoch 28/30\n",
      "6/6 [==============================] - 28s 5s/step - loss: 0.0037 - accuracy: 1.0000 - val_loss: 4.3312e-04 - val_accuracy: 1.0000\n",
      "Epoch 29/30\n",
      "6/6 [==============================] - 29s 5s/step - loss: 0.0037 - accuracy: 1.0000 - val_loss: 4.1407e-04 - val_accuracy: 1.0000\n",
      "Epoch 30/30\n",
      "6/6 [==============================] - 26s 4s/step - loss: 0.0022 - accuracy: 1.0000 - val_loss: 3.7320e-04 - val_accuracy: 1.0000\n"
     ]
    }
   ],
   "source": [
    "# Train model\n",
    "history = model.fit(\n",
    "    ds_train, validation_data=ds_valid,\n",
    "    epochs=30,\n",
    "    verbose=1\n",
    ")"
   ]
  },
  {
   "cell_type": "code",
   "execution_count": 13,
   "id": "568d7dad",
   "metadata": {},
   "outputs": [],
   "source": [
    "\n",
    "labels = ['Earth', 'Jupiter', 'Mars', 'Mercury', 'Neptune', 'Saturn', 'Uranus', 'Venus']"
   ]
  },
  {
   "cell_type": "code",
   "execution_count": 14,
   "id": "d87c2bea",
   "metadata": {},
   "outputs": [],
   "source": [
    "# Preprocess image\n",
    "def preprocess_img(image_path):\n",
    "    image = tf.io.read_file(image_path)\n",
    "    image = tf.image.decode_jpeg(image, channels=3)\n",
    "    image = tf.image.resize(image, [128, 128])\n",
    "    image = tf.cast(image, tf.float32) / 255.0\n",
    "    return image\n",
    "\n",
    "def predict_class(image_path):\n",
    "    image = preprocess_img(image_path)\n",
    "    image = tf.expand_dims(image, axis=0)\n",
    "    predictions = model.predict(image)\n",
    "\n",
    "    predicted_index = tf.argmax(predictions[0]).numpy()\n",
    "    predicted_class = labels[predicted_index]\n",
    "    return predicted_class"
   ]
  },
  {
   "cell_type": "code",
   "execution_count": 48,
   "id": "e613bd55",
   "metadata": {},
   "outputs": [
    {
     "data": {
      "image/jpeg": "[encoded data removed]",
      "text/plain": [
       "<IPython.core.display.Image object>"
      ]
     },
     "execution_count": 48,
     "metadata": {},
     "output_type": "execute_result"
    }
   ],
   "source": [
    "from IPython.display import Image\n",
    "\n",
    "image_path = r\"C:\\Users\\Helen\\Nexforce_projects\\planets\\neptune.jpg\"\n",
    "\n",
    "# Display the image from pc\n",
    "Image(filename=image_path)\n"
   ]
  },
  {
   "cell_type": "code",
   "execution_count": 62,
   "id": "b9ec23e0",
   "metadata": {},
   "outputs": [
    {
     "name": "stdout",
     "output_type": "stream",
     "text": [
      "1/1 [==============================] - 1s 993ms/step\n",
      "The predicted planet is:  Neptune\n"
     ]
    }
   ],
   "source": [
    "image_path =  r\"C:\\Users\\Helen\\Nexforce_projects\\planets\\neptune.jpg\"\n",
    "\n",
    "planet = predict_class(image_path)\n",
    "print(\"The predicted planet is: \", planet)"
   ]
  },
  {
   "cell_type": "code",
   "execution_count": 51,
   "id": "59dbbadb",
   "metadata": {},
   "outputs": [
    {
     "data": {
      "image/jpeg": "[encoded data removed]",
      "text/plain": [
       "<IPython.core.display.Image object>"
      ]
     },
     "execution_count": 51,
     "metadata": {},
     "output_type": "execute_result"
    }
   ],
   "source": [
    "from IPython.display import Image\n",
    "\n",
    "image_path = r\"C:\\Users\\Helen\\Nexforce_projects\\planets\\venus.jpg\"\n",
    "\n",
    "# Display the image from pc\n",
    "Image(filename=image_path)\n"
   ]
  },
  {
   "cell_type": "code",
   "execution_count": 63,
   "id": "2f2bcab0",
   "metadata": {},
   "outputs": [
    {
     "name": "stdout",
     "output_type": "stream",
     "text": [
      "1/1 [==============================] - 0s 137ms/step\n",
      "The predicted planet is:  Venus\n"
     ]
    }
   ],
   "source": [
    "image_path = r\"C:\\Users\\Helen\\Nexforce_projects\\planets\\venus.jpg\"\n",
    "\n",
    "planet = predict_class(image_path)\n",
    "print(\"The predicted planet is: \", planet)"
   ]
  },
  {
   "cell_type": "code",
   "execution_count": 52,
   "id": "3e8032ab",
   "metadata": {},
   "outputs": [
    {
     "data": {
      "image/jpeg": "[encoded data removed]",
      "text/plain": [
       "<IPython.core.display.Image object>"
      ]
     },
     "execution_count": 52,
     "metadata": {},
     "output_type": "execute_result"
    }
   ],
   "source": [
    "from IPython.display import Image\n",
    "\n",
    "image_path = r\"C:\\Users\\Helen\\Nexforce_projects\\planets\\jupiter1.jpg\"\n",
    "\n",
    "# Display the image from pc\n",
    "Image(filename=image_path)\n"
   ]
  },
  {
   "cell_type": "code",
   "execution_count": 66,
   "id": "62212c35",
   "metadata": {},
   "outputs": [
    {
     "name": "stdout",
     "output_type": "stream",
     "text": [
      "1/1 [==============================] - 1s 1s/step\n",
      "The predicted planet is:  Jupiter\n"
     ]
    }
   ],
   "source": [
    "image_path = r\"C:\\Users\\Helen\\Nexforce_projects\\planets\\jupiter1.jpg\";\n",
    "\n",
    "planet = predict_class(image_path)\n",
    "print(\"The predicted planet is: \", planet)"
   ]
  },
  {
   "cell_type": "markdown",
   "id": "14eacb4a",
   "metadata": {},
   "source": [
    "\"\"\"paths \n",
    "neptune : r\"C:\\Users\\Helen\\Nexforce_projects\\planets\\neptune.jpg\"\n",
    "venus : r\"C:\\Users\\Helen\\Nexforce_projects\\planets\\venus.jpg\"\n",
    "jupiter : r\"C:\\Users\\Helen\\Nexforce_projects\\planets\\jupiter1.jpg\"\n",
    "mercury : r\"C:\\Users\\Helen\\Nexforce_projects\\planets\\mercury.jpg\"\n",
    "earth : r\"C:\\Users\\Helen\\Nexforce_projects\\planets\\earth.jpg\"\n",
    "uranus : r\"C:\\Users\\Helen\\Nexforce_projects\\planets\\uranus.jpg\"\n",
    "saturn : r\"C:\\Users\\Helen\\Nexforce_projects\\planets\\saturn.jpg\"\n",
    "\"\"\"\n"
   ]
  }
 ],
 "metadata": {
  "kernelspec": {
   "display_name": "Python 3 (ipykernel)",
   "language": "python",
   "name": "python3"
  },
  "language_info": {
   "codemirror_mode": {
    "name": "ipython",
    "version": 3
   },
   "file_extension": ".py",
   "mimetype": "text/x-python",
   "name": "python",
   "nbconvert_exporter": "python",
   "pygments_lexer": "ipython3",
   "version": "3.11.4"
  }
 },
 "nbformat": 4,
 "nbformat_minor": 5
}
